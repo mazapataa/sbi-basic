{
 "cells": [
  {
   "cell_type": "code",
   "execution_count": 1,
   "id": "cdae595d",
   "metadata": {},
   "outputs": [],
   "source": [
    "import numpy as np\n",
    "import matplotlib.pyplot as plt\n",
    "from scipy.stats import norm, uniform\n",
    "import pandas as pd\n",
    "import matplotlib.image as mpimg\n",
    "from scipy.misc import derivative\n",
    "from scipy.integrate import quad"
   ]
  },
  {
   "cell_type": "markdown",
   "id": "fe835898",
   "metadata": {},
   "source": [
    "### In this case we'll explore the case for multiple data set. We consider that the total distance is given by \n",
    "$$\n",
    "\n",
    "d_{\\rm tot} = \\sum_{i} \\omega_i d_{i} \\left(X_{\\rm obs,i}, X_{\\rm sim,i} \\right)\n",
    "$$\n",
    "### where $i$ runs over the number of multiple data set. \n",
    "### In this example we'll use SN Ia and BAO data to constrain CPL model.\n",
    "\n"
   ]
  },
  {
   "cell_type": "code",
   "execution_count": null,
   "id": "59657fda",
   "metadata": {},
   "outputs": [],
   "source": [
    "def total_distance(sn_obs, sn_err, sn_sim,\n",
    "                     bao_obs, bao_err, bao_sim,\n",
    "                     weights=None):\n",
    "    if weights is None:\n",
    "        weights = {'hubble': 1.0, 'sn': 1.0, 'bao': 1.0}\n",
    "\n",
    "    d_sn = sn_distance(sn_obs, sn_err, sn_sim)\n",
    "    d_bao = bao_distance(bao_obs, bao_err, bao_sim)\n",
    "    \n",
    "    # Weighted combination\n",
    "    total_distance = (weights['sn'] * d_sn +\n",
    "                     weights['bao'] * d_bao)\n",
    "    \n",
    "    return total_distance\n",
    "\n",
    "\n",
    "def sn_distance(observed, errors, simulated):\n",
    "    \"\"\"Distance metric for Supernovae data (distance modulus)\"\"\"\n",
    "    residuals = (observed - simulated) / errors\n",
    "    return np.sum(residuals**2)\n",
    "\n",
    "def bao_distance(observed, errors, simulated):\n",
    "    \"\"\"Distance metric for BAO data (distance ratios)\"\"\"\n",
    "    residuals = (observed - simulated) / errors\n",
    "    return np.sum(residuals**2)"
   ]
  },
  {
   "cell_type": "code",
   "execution_count": 5,
   "id": "3ddafb21",
   "metadata": {},
   "outputs": [],
   "source": [
    "Omega_m0 = 0.3\n",
    "Omega_L0 = 0.7\n",
    "h = 0.71\n",
    "zvals = np.linspace(0,3,100)"
   ]
  },
  {
   "cell_type": "code",
   "execution_count": null,
   "id": "769a61b1",
   "metadata": {},
   "outputs": [],
   "source": [
    "# cosmological distances \n",
    "\n",
    "def hubble_normalized_cpl(z, w0, wa):\n",
    "    \n",
    "    matter_term = Omega_m0 * (1 + z)**3\n",
    "    \n",
    "    de_term = Omega_L0 * (1+z)**(3*(1+w0+wa)) * np.exp(-3*wa*z/(1+z))\n",
    "    return  H0 * np.sqrt(matter_term + de_term)\n",
    "\n",
    "\n",
    "def H():\n",
    "       return 100*h\n",
    "\n",
    "def HUBz(z):\n",
    "    return H()*hubble_normalized_cpl(z)\n",
    "\n",
    "def inverse_hubble_normalized_z(z):\n",
    "\n",
    "    return 1./hubble_normalized_cpl(z)\n",
    "\n",
    "def hubble_normalized_a(a):\n",
    "    return hubble_normalized_cpl(1./a-1)\n",
    "\n",
    "def hubble_prime_normalized_a(a):\n",
    "    return derivative(hubble_normalized_a, a, dx=1e-6)\n",
    "\n",
    "def D_H():\n",
    "    \"\"\"\n",
    "    Hubble distance in units of MPc (David Hogg arxiv: astro-ph/9905116v4)\n",
    "    \"\"\"\n",
    "    return 2997.98/h\n",
    "\n",
    "def comoving_distance_z(z1):\n",
    "    return D_H() *quad(inverse_hubble_normalized_z,0, z1,epsabs=1e-6, epsrel=1e-6, limit=200)[0]\n",
    "\n",
    "# angular diameter distance in units of MPc\n",
    "def angular_diameter_distance_z(z):\n",
    "    \"\"\"\n",
    "    Angular diameter distance as function of redshift z\n",
    "    in units of MPc\n",
    "    \"\"\"\n",
    "    d_c = comoving_distance_z(z)/(1.+z)\n",
    "    return d_c\n",
    "\n",
    "# luminosity distance in units of MPc\n",
    "def luminosity_distance_z(self, z):\n",
    "    d_c = comoving_distance_z(z)\n",
    "    return (1 + z) * d_c\n",
    "\n"
   ]
  }
 ],
 "metadata": {
  "kernelspec": {
   "display_name": "cosmodesi",
   "language": "python",
   "name": "cosmodesi"
  },
  "language_info": {
   "codemirror_mode": {
    "name": "ipython",
    "version": 3
   },
   "file_extension": ".py",
   "mimetype": "text/x-python",
   "name": "python",
   "nbconvert_exporter": "python",
   "pygments_lexer": "ipython3",
   "version": "3.10.12"
  }
 },
 "nbformat": 4,
 "nbformat_minor": 5
}
